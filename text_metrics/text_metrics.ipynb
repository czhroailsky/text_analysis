{
 "cells": [
  {
   "cell_type": "code",
   "execution_count": 1,
   "metadata": {},
   "outputs": [],
   "source": [
    "import pandas as pd\n",
    "from nltk.corpus import stopwords"
   ]
  },
  {
   "cell_type": "code",
   "execution_count": 2,
   "metadata": {},
   "outputs": [],
   "source": [
    "data = pd.read_json('C:/Users/enterprise/Google Drive/fake_news_resources/raw_data/nacion_unida.json')"
   ]
  },
  {
   "cell_type": "code",
   "execution_count": 3,
   "metadata": {},
   "outputs": [],
   "source": [
    "data = data.head()"
   ]
  },
  {
   "cell_type": "code",
   "execution_count": 4,
   "metadata": {},
   "outputs": [],
   "source": [
    "data['text_lowercase'] = data['text'].apply(lambda x: x.lower())"
   ]
  },
  {
   "cell_type": "code",
   "execution_count": 5,
   "metadata": {},
   "outputs": [
    {
     "name": "stdout",
     "output_type": "stream",
     "text": [
      "                                                text  \\\n",
      "0  En Facebооk pоdemоs encоntrar diversоs videоs,...   \n",
      "1  Las manteconchas no fueron creadas рor Bimbo, ...   \n",
      "2  Redes.- Captan el mоmentо en que un accidente ...   \n",
      "3  La creatividad de estоs niñоs impactó a tоdоs....   \n",
      "4  En las imágenes, se puede apreciar al can de c...   \n",
      "\n",
      "                                               title  \\\n",
      "0  adorable cacatua canta una cancion bebe causa ...   \n",
      "1  ahora bimbo pretende robarse las manteconchas ...   \n",
      "2  aterrador video nina queda moto marcha tras ca...   \n",
      "3   estos ninos te robaran corazon banda rock lindos   \n",
      "4  hermoso perrito roba una camara gopro se graba...   \n",
      "\n",
      "                                      text_lowercase  \n",
      "0  en facebооk pоdemоs encоntrar diversоs videоs,...  \n",
      "1  las manteconchas no fueron creadas рor bimbo, ...  \n",
      "2  redes.- captan el mоmentо en que un accidente ...  \n",
      "3  la creatividad de estоs niñоs impactó a tоdоs....  \n",
      "4  en las imágenes, se puede apreciar al can de c...  \n"
     ]
    }
   ],
   "source": [
    "print(data)"
   ]
  },
  {
   "cell_type": "code",
   "execution_count": null,
   "metadata": {},
   "outputs": [],
   "source": []
  }
 ],
 "metadata": {
  "kernelspec": {
   "display_name": "py35",
   "language": "python",
   "name": "py35"
  },
  "language_info": {
   "codemirror_mode": {
    "name": "ipython",
    "version": 2
   },
   "file_extension": ".py",
   "mimetype": "text/x-python",
   "name": "python",
   "nbconvert_exporter": "python",
   "pygments_lexer": "ipython2",
   "version": "2.7.15"
  }
 },
 "nbformat": 4,
 "nbformat_minor": 2
}
