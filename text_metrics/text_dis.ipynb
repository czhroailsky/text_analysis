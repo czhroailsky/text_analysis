{
 "cells": [
  {
   "cell_type": "code",
   "execution_count": 8,
   "metadata": {},
   "outputs": [],
   "source": [
    "import pandas as pd\n",
    "from nltk.corpus import stopwords"
   ]
  },
  {
   "cell_type": "code",
   "execution_count": 2,
   "metadata": {},
   "outputs": [],
   "source": [
    "data = pd.read_json('C:/Users/enterprise/Google Drive/fake_news_resources/raw_data/nacion_unida.json')"
   ]
  },
  {
   "cell_type": "code",
   "execution_count": 3,
   "metadata": {},
   "outputs": [],
   "source": [
    "data['text_lowercase'] = data['text'].apply(lambda x: x.lower())"
   ]
  },
  {
   "cell_type": "code",
   "execution_count": 6,
   "metadata": {},
   "outputs": [],
   "source": [
    "data['char_count'] = data['text_lowercase'].str.len()"
   ]
  },
  {
   "cell_type": "code",
   "execution_count": 14,
   "metadata": {},
   "outputs": [],
   "source": [
    "stop = stopwords.words('spanish')\n",
    "data['flt_sw'] = data['text_lowercase'].apply(lambda x: [x for x in x.split() if x in stop])"
   ]
  },
  {
   "cell_type": "code",
   "execution_count": 16,
   "metadata": {},
   "outputs": [],
   "source": [
    "data['flt_wo_sw'] = data['text_lowercase'].apply(lambda x: [x for x in x.split() if x not in stop])"
   ]
  },
  {
   "cell_type": "code",
   "execution_count": 17,
   "metadata": {},
   "outputs": [
    {
     "data": {
      "text/html": [
       "<div>\n",
       "<style scoped>\n",
       "    .dataframe tbody tr th:only-of-type {\n",
       "        vertical-align: middle;\n",
       "    }\n",
       "\n",
       "    .dataframe tbody tr th {\n",
       "        vertical-align: top;\n",
       "    }\n",
       "\n",
       "    .dataframe thead th {\n",
       "        text-align: right;\n",
       "    }\n",
       "</style>\n",
       "<table border=\"1\" class=\"dataframe\">\n",
       "  <thead>\n",
       "    <tr style=\"text-align: right;\">\n",
       "      <th></th>\n",
       "      <th>text</th>\n",
       "      <th>title</th>\n",
       "      <th>text_lowercase</th>\n",
       "      <th>char_count</th>\n",
       "      <th>flt_sw</th>\n",
       "      <th>flt_wo_sw</th>\n",
       "    </tr>\n",
       "  </thead>\n",
       "  <tbody>\n",
       "    <tr>\n",
       "      <th>0</th>\n",
       "      <td>En Facebооk pоdemоs encоntrar diversоs videоs,...</td>\n",
       "      <td>adorable cacatua canta una cancion bebe causa ...</td>\n",
       "      <td>en facebооk pоdemоs encоntrar diversоs videоs,...</td>\n",
       "      <td>1336</td>\n",
       "      <td>[en, y, el, de, este, que, le, una, a, un, de,...</td>\n",
       "      <td>[facebооk, pоdemоs, encоntrar, diversоs, videо...</td>\n",
       "    </tr>\n",
       "    <tr>\n",
       "      <th>1</th>\n",
       "      <td>Las manteconchas no fueron creadas рor Bimbo, ...</td>\n",
       "      <td>ahora bimbo pretende robarse las manteconchas ...</td>\n",
       "      <td>las manteconchas no fueron creadas рor bimbo, ...</td>\n",
       "      <td>1789</td>\n",
       "      <td>[las, no, fueron, la, la, como, suya, ante, el...</td>\n",
       "      <td>[manteconchas, creadas, рor, bimbo,, рero, рan...</td>\n",
       "    </tr>\n",
       "    <tr>\n",
       "      <th>2</th>\n",
       "      <td>Redes.- Captan el mоmentо en que un accidente ...</td>\n",
       "      <td>aterrador video nina queda moto marcha tras ca...</td>\n",
       "      <td>redes.- captan el mоmentо en que un accidente ...</td>\n",
       "      <td>832</td>\n",
       "      <td>[el, en, que, un, de, a, una, de, al, del, ant...</td>\n",
       "      <td>[redes.-, captan, mоmentо, accidente, mоtоcicl...</td>\n",
       "    </tr>\n",
       "    <tr>\n",
       "      <th>3</th>\n",
       "      <td>La creatividad de estоs niñоs impactó a tоdоs....</td>\n",
       "      <td>estos ninos te robaran corazon banda rock lindos</td>\n",
       "      <td>la creatividad de estоs niñоs impactó a tоdоs....</td>\n",
       "      <td>1538</td>\n",
       "      <td>[la, de, a, en, se, el, de, que, su, de, sin, ...</td>\n",
       "      <td>[creatividad, estоs, niñоs, impactó, tоdоs., f...</td>\n",
       "    </tr>\n",
       "    <tr>\n",
       "      <th>4</th>\n",
       "      <td>En las imágenes, se puede apreciar al can de c...</td>\n",
       "      <td>hermoso perrito roba una camara gopro se graba...</td>\n",
       "      <td>en las imágenes, se puede apreciar al can de c...</td>\n",
       "      <td>724</td>\n",
       "      <td>[en, las, se, al, de, cuando, con, el, lo, alg...</td>\n",
       "      <td>[imágenes,, puede, apreciar, can, color, negro...</td>\n",
       "    </tr>\n",
       "  </tbody>\n",
       "</table>\n",
       "</div>"
      ],
      "text/plain": [
       "                                                text  \\\n",
       "0  En Facebооk pоdemоs encоntrar diversоs videоs,...   \n",
       "1  Las manteconchas no fueron creadas рor Bimbo, ...   \n",
       "2  Redes.- Captan el mоmentо en que un accidente ...   \n",
       "3  La creatividad de estоs niñоs impactó a tоdоs....   \n",
       "4  En las imágenes, se puede apreciar al can de c...   \n",
       "\n",
       "                                               title  \\\n",
       "0  adorable cacatua canta una cancion bebe causa ...   \n",
       "1  ahora bimbo pretende robarse las manteconchas ...   \n",
       "2  aterrador video nina queda moto marcha tras ca...   \n",
       "3   estos ninos te robaran corazon banda rock lindos   \n",
       "4  hermoso perrito roba una camara gopro se graba...   \n",
       "\n",
       "                                      text_lowercase  char_count  \\\n",
       "0  en facebооk pоdemоs encоntrar diversоs videоs,...        1336   \n",
       "1  las manteconchas no fueron creadas рor bimbo, ...        1789   \n",
       "2  redes.- captan el mоmentо en que un accidente ...         832   \n",
       "3  la creatividad de estоs niñоs impactó a tоdоs....        1538   \n",
       "4  en las imágenes, se puede apreciar al can de c...         724   \n",
       "\n",
       "                                              flt_sw  \\\n",
       "0  [en, y, el, de, este, que, le, una, a, un, de,...   \n",
       "1  [las, no, fueron, la, la, como, suya, ante, el...   \n",
       "2  [el, en, que, un, de, a, una, de, al, del, ant...   \n",
       "3  [la, de, a, en, se, el, de, que, su, de, sin, ...   \n",
       "4  [en, las, se, al, de, cuando, con, el, lo, alg...   \n",
       "\n",
       "                                           flt_wo_sw  \n",
       "0  [facebооk, pоdemоs, encоntrar, diversоs, videо...  \n",
       "1  [manteconchas, creadas, рor, bimbo,, рero, рan...  \n",
       "2  [redes.-, captan, mоmentо, accidente, mоtоcicl...  \n",
       "3  [creatividad, estоs, niñоs, impactó, tоdоs., f...  \n",
       "4  [imágenes,, puede, apreciar, can, color, negro...  "
      ]
     },
     "execution_count": 17,
     "metadata": {},
     "output_type": "execute_result"
    }
   ],
   "source": [
    "data.head()"
   ]
  },
  {
   "cell_type": "code",
   "execution_count": null,
   "metadata": {},
   "outputs": [],
   "source": []
  }
 ],
 "metadata": {
  "kernelspec": {
   "display_name": "py35",
   "language": "python",
   "name": "py35"
  },
  "language_info": {
   "codemirror_mode": {
    "name": "ipython",
    "version": 3
   },
   "file_extension": ".py",
   "mimetype": "text/x-python",
   "name": "python",
   "nbconvert_exporter": "python",
   "pygments_lexer": "ipython3",
   "version": "3.5.6"
  }
 },
 "nbformat": 4,
 "nbformat_minor": 2
}
