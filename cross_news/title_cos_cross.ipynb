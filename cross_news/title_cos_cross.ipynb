{
 "cells": [
  {
   "cell_type": "code",
   "execution_count": 1,
   "metadata": {},
   "outputs": [],
   "source": [
    "import pandas as pd\n",
    "import numpy as np\n",
    "import math\n",
    "\n",
    "from sklearn.feature_extraction.text import TfidfVectorizer\n",
    "\n",
    "from nltk.corpus import stopwords"
   ]
  },
  {
   "cell_type": "code",
   "execution_count": 2,
   "metadata": {},
   "outputs": [],
   "source": [
    "unida = pd.read_json('C:/Users/enterprise/Google Drive/fake_news_resources/raw_data/nacion_unida.json')\n",
    "verif = pd.read_json('C:/Users/enterprise/Google Drive/fake_news_resources/raw_data/verificado_2018.json')"
   ]
  },
  {
   "cell_type": "code",
   "execution_count": 3,
   "metadata": {},
   "outputs": [],
   "source": [
    "unida['title_list'] = unida['title'].apply(lambda x: str(x).split(' '))\n",
    "unida['filter_title'] = unida['title_list'].apply(lambda x: [word for word in x if word not in stopwords.words('spanish')])"
   ]
  },
  {
   "cell_type": "code",
   "execution_count": 4,
   "metadata": {},
   "outputs": [],
   "source": [
    "verif['title_list'] = verif['title'].apply(lambda x: str(x).split(' '))\n",
    "verif['filter_title'] = verif['title_list'].apply(lambda x: [word for word in x if word not in stopwords.words('spanish')])"
   ]
  },
  {
   "cell_type": "code",
   "execution_count": 5,
   "metadata": {},
   "outputs": [],
   "source": [
    "unida['filter_title_join'] = unida['filter_title'].apply(lambda x: ' '.join(x))\n",
    "verif['filter_title_join'] = verif['filter_title'].apply(lambda x: ' '.join(x))"
   ]
  },
  {
   "cell_type": "code",
   "execution_count": 6,
   "metadata": {},
   "outputs": [],
   "source": [
    "unida_str = unida['filter_title_join'].tolist()\n",
    "verif_str = verif['filter_title_join'].tolist()"
   ]
  },
  {
   "cell_type": "code",
   "execution_count": 7,
   "metadata": {},
   "outputs": [],
   "source": [
    "corpus = unida_str + verif_str\n",
    "vectorizer = TfidfVectorizer()\n",
    "matrix = vectorizer.fit_transform(corpus)\n",
    "names = vectorizer.get_feature_names()"
   ]
  },
  {
   "cell_type": "code",
   "execution_count": 8,
   "metadata": {},
   "outputs": [],
   "source": [
    "mat_uni = vectorizer.transform(unida_str)\n",
    "mat_ver = vectorizer.transform(verif_str)"
   ]
  },
  {
   "cell_type": "code",
   "execution_count": 9,
   "metadata": {},
   "outputs": [],
   "source": [
    "df_mat_uni = pd.DataFrame(mat_uni.todense(), columns=names)\n",
    "df_mat_ver = pd.DataFrame(mat_ver.todense(), columns=names)"
   ]
  },
  {
   "cell_type": "code",
   "execution_count": 10,
   "metadata": {},
   "outputs": [],
   "source": [
    "lst_mat_uni = df_mat_uni.values.tolist()\n",
    "lst_mat_ver = df_mat_ver.values.tolist()"
   ]
  },
  {
   "cell_type": "code",
   "execution_count": 11,
   "metadata": {},
   "outputs": [],
   "source": [
    "def l2_norm(a):\n",
    "    return(math.sqrt(np.dot(a, a)))"
   ]
  },
  {
   "cell_type": "code",
   "execution_count": 12,
   "metadata": {},
   "outputs": [],
   "source": [
    "def cosine_similarity(a, b):\n",
    "    return(np.dot(a,b) / (l2_norm(a) * l2_norm(b)))"
   ]
  },
  {
   "cell_type": "code",
   "execution_count": 13,
   "metadata": {},
   "outputs": [],
   "source": [
    "maybe = []\n",
    "\n",
    "for i in range(len(lst_mat_ver)):\n",
    "    aux = []\n",
    "    for j in range(len(lst_mat_uni)):\n",
    "        sim = cosine_similarity(np.array(lst_mat_uni[j]), np.array(lst_mat_ver[i]))\n",
    "        aux.append(sim)\n",
    "    maybe.append(aux)"
   ]
  },
  {
   "cell_type": "code",
   "execution_count": 14,
   "metadata": {},
   "outputs": [],
   "source": [
    "max_maybe = []\n",
    "\n",
    "for com in maybe:\n",
    "    max_maybe.append(max(com))"
   ]
  },
  {
   "cell_type": "code",
   "execution_count": 15,
   "metadata": {},
   "outputs": [],
   "source": [
    "index_maybe = []\n",
    "\n",
    "for r in range(len(maybe)):\n",
    "    index = [i for i, j in enumerate(maybe[r]) if j == max_maybe[r]]\n",
    "    index_maybe.append(index)"
   ]
  },
  {
   "cell_type": "code",
   "execution_count": 16,
   "metadata": {},
   "outputs": [],
   "source": [
    "new_index = []\n",
    "\n",
    "for index in index_maybe:\n",
    "    if len(index) == 1:\n",
    "        new_index.append(index[0])\n",
    "    else:\n",
    "        #print(index)\n",
    "        pass"
   ]
  },
  {
   "cell_type": "code",
   "execution_count": 17,
   "metadata": {},
   "outputs": [],
   "source": [
    "class_est = []\n",
    "\n",
    "for i in range(unida.shape[0]):\n",
    "    if i in new_index:\n",
    "        class_est.append(1)\n",
    "    else:\n",
    "        class_est.append(0)"
   ]
  },
  {
   "cell_type": "code",
   "execution_count": 18,
   "metadata": {},
   "outputs": [],
   "source": [
    "df_class = pd.DataFrame({'class': class_est})"
   ]
  },
  {
   "cell_type": "code",
   "execution_count": 19,
   "metadata": {},
   "outputs": [],
   "source": [
    "result = pd.concat([unida, df_class], axis=1, sort=False)"
   ]
  },
  {
   "cell_type": "code",
   "execution_count": 20,
   "metadata": {},
   "outputs": [],
   "source": [
    "result_c1 = result[result['class'] == 1]"
   ]
  },
  {
   "cell_type": "code",
   "execution_count": 23,
   "metadata": {},
   "outputs": [
    {
     "name": "stdout",
     "output_type": "stream",
     "text": [
      "                                                  text  \\\n",
      "931   Militante рor años del PAN, exregidor en Mont...   \n",
      "\n",
      "                                                 title  \\\n",
      "931  anaya paga 4 millones 640 mil pesos ecuestador...   \n",
      "\n",
      "                                            title_list  \\\n",
      "931  [anaya, paga, 4, millones, 640, mil, pesos, ec...   \n",
      "\n",
      "                                          filter_title  \\\n",
      "931  [anaya, paga, 4, millones, 640, mil, pesos, ec...   \n",
      "\n",
      "                                     filter_title_join  class  \n",
      "931  anaya paga 4 millones 640 mil pesos ecuestador...      1  \n"
     ]
    }
   ],
   "source": [
    "print(result_c1.loc[[931]])"
   ]
  },
  {
   "cell_type": "code",
   "execution_count": 22,
   "metadata": {},
   "outputs": [],
   "source": [
    "result.to_json('cross_title.json', orient='records')"
   ]
  },
  {
   "cell_type": "code",
   "execution_count": null,
   "metadata": {},
   "outputs": [],
   "source": []
  }
 ],
 "metadata": {
  "kernelspec": {
   "display_name": "py35",
   "language": "python",
   "name": "py35"
  },
  "language_info": {
   "codemirror_mode": {
    "name": "ipython",
    "version": 3
   },
   "file_extension": ".py",
   "mimetype": "text/x-python",
   "name": "python",
   "nbconvert_exporter": "python",
   "pygments_lexer": "ipython3",
   "version": "3.5.6"
  }
 },
 "nbformat": 4,
 "nbformat_minor": 2
}
