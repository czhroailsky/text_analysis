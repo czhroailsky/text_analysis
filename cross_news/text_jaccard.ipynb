{
 "cells": [
  {
   "cell_type": "code",
   "execution_count": 1,
   "metadata": {},
   "outputs": [],
   "source": [
    "import pandas as pd\n",
    "from nltk.corpus import stopwords"
   ]
  },
  {
   "cell_type": "code",
   "execution_count": 3,
   "metadata": {},
   "outputs": [],
   "source": [
    "unida = pd.read_json('C:/Users/enterprise/Google Drive/fake_news_resources/raw_data/nacion_unida.json')\n",
    "verif = pd.read_json('C:/Users/enterprise/Google Drive/fake_news_resources/raw_data/verificado_2018.json')"
   ]
  },
  {
   "cell_type": "code",
   "execution_count": 4,
   "metadata": {},
   "outputs": [],
   "source": [
    "unida['text_list'] = unida['text'].apply(lambda x: str(x).split(' '))\n",
    "unida['filter_text'] = unida['text_list'].apply(lambda x: [word for word in x if word not in stopwords.words('spanish')])"
   ]
  },
  {
   "cell_type": "code",
   "execution_count": 5,
   "metadata": {},
   "outputs": [],
   "source": [
    "verif['text_list'] = verif['text'].apply(lambda x: str(x).split(' '))\n",
    "verif['filter_text'] = verif['text_list'].apply(lambda x: [word for word in x if word not in stopwords.words('spanish')])"
   ]
  },
  {
   "cell_type": "code",
   "execution_count": 6,
   "metadata": {},
   "outputs": [],
   "source": [
    "def get_jaccard_sim(str1, str2):\n",
    "    a = set(str1)\n",
    "    b = set(str2)\n",
    "    c = a.intersection(b)\n",
    "    return(float(len(c)) / (len(a) + len(b) - len(c)))"
   ]
  },
  {
   "cell_type": "code",
   "execution_count": 7,
   "metadata": {},
   "outputs": [],
   "source": [
    "maybe = []\n",
    "for i in range(unida.shape[0]):\n",
    "    sim = get_jaccard_sim(verif['filter_text'][0], unida['filter_text'][i])\n",
    "    maybe.append(sim)"
   ]
  },
  {
   "cell_type": "code",
   "execution_count": 8,
   "metadata": {},
   "outputs": [
    {
     "name": "stdout",
     "output_type": "stream",
     "text": [
      "0.08022922636103152\n"
     ]
    }
   ],
   "source": [
    "m_maybe = max(maybe)\n",
    "print(m_maybe)"
   ]
  },
  {
   "cell_type": "code",
   "execution_count": 9,
   "metadata": {},
   "outputs": [],
   "source": [
    "index = [i for i, j in enumerate(maybe) if j == m_maybe]"
   ]
  },
  {
   "cell_type": "code",
   "execution_count": 10,
   "metadata": {},
   "outputs": [
    {
     "name": "stdout",
     "output_type": "stream",
     "text": [
      "[1210]\n"
     ]
    }
   ],
   "source": [
    "print(index)"
   ]
  },
  {
   "cell_type": "code",
   "execution_count": 16,
   "metadata": {},
   "outputs": [
    {
     "name": "stdout",
     "output_type": "stream",
     "text": [
      "acciones de empresas boicot anti amlo\n",
      " La nota “Funciona el boicot: Se derrumban acciones de empresas que llamaban a no votar por AMLO” suma 48 mil interacciones en Facebook y ha sido publicada 141 veces en distintas páginas de esa red social. Aunque hay datos ciertos, la información está descontextualizada. Verificado 2018 consultó con expertos y encontró que los cambios en la cotización de empresas en la bolsa responden a diversos factores, más allá de las elecciones. Acciones en picada La nota “Funciona el boicot: Se derrumban acciones de empresas que llamaban a no votar por AMLO”, publicada por el portal Nación Unida, explica que a consecuencia de los comunicados de los empresarios Germán Larrea Mota (Grupo México) y, Héctor Hernández Pons Torres (Grupo Herdez), en contra del modelo político que encabeza el candidato presidencial Andrés Manuel López Obrador, las acciones de estas empresas perdieron valor en la bolsa. Además de las anteriores se menciona a Grupo Lala; sin embargo, el posicionamiento de Lala ya fue desmentido. Tanto en el caso de Grupo México como en el de Herdez, sí hay una disminución en el valor de sus acciones después de la publicación de sus comunicados, pero en ambos casos las bajas comienzan fechas previas a la publicación de sus cartas: el día 16 de abril para Herdez y el 21 de mayo para Grupo México. Al ampliar aún más el panorama, a un año, se puede observar que la baja es mínima. Precio de las acciones de Herdez a valor de mercado:  Precio de las acciones de Grupo México a valor del mercado:  Además de que los movimientos en la bolsa fueron previos a sus declaraciones, Ricardo Morales Pelagio, académico e investigador de la Universidad Nacional Autónoma de México (UNAM) explicó que sería muy difícil probar que la caída del valor en las acciones se deba justamente a estas declaraciones, pues hay condiciones internas y externas al país que afectan los movimientos de la bolsa y a las mismas empresas. El académico detalló que la bolsa mexicana ha caído en el último año, por distintos factores: imposición de aranceles a ciertos productos por parte del gobierno de Estados Unidos, y el lento avance en las negociaciones del Tratado de Libre Comercio de América del Norte (TLCAN), entre otros. Sobre las elecciones, Morales Pelagio dijo que si bien siempre hay nerviosismo por el cambio de actores políticos, ahora no es ningún factor contundente para que suba o baje el mercado. Lo anterior también se afirma en un reporte exclusivo para clientes de Citigroup al que Verificado 2018 tuvo acceso. El reporte puntualiza que la renegociación del TLCAN preocupa más a los inversores que las elecciones: “El tema del TLCAN podría ser la principal motivación detrás de las precauciones tomadas en la conformación de los portafolios de inversión”. El reporte detalla que si bien durante los tres meses previos a la elección se ha observado mayor volatilidad en elecciones pasadas, en esta ocasión sí se observan posturas más defensivas.\n"
     ]
    }
   ],
   "source": [
    "print(verif['title'][0])\n",
    "print(verif['text'][0])"
   ]
  },
  {
   "cell_type": "code",
   "execution_count": 17,
   "metadata": {},
   "outputs": [
    {
     "name": "stdout",
     "output_type": "stream",
     "text": [
      "estudio la unam colegio mexico oxford profesor emerito la universidad lingnan hong kong ha asesor del banco mundial fmi embajador mexico ante la organizacion\n",
      " Andrés Manuel López Obrador, candidato presidencial por Morena, Partido del Trabajo y Encuentro Social, anunció que en caso de ganar la Presidencia, el economista Jesús Seade será la pieza clave para encabezar las negociaciones del Tratado de Libre Comercio de América del Norte (TLCAN) con los países de Estados Unidos y Canadá. “Un economista destacadísimo, uno de los mejores economistas de México (…) es la persona indicada, idónea”, afirmó en un video difundido en redes sociales. López Obrador también llamó a que no se firme nada hasta después de las elecciones. “No por la precipitación se vaya a cometer el error de firmar algo que nos perjudique, que afecte a los productores nacionales. Que no incluya el tema migratorio, y que acepten ignominias como la construcción del muro”. AMLO explicó que a Seade Helú se lo recomendaron tres personas: Rogelio Ramírez de la O, economista cercano a AMLO, Carlos Urzúa, quien sería secretario de Hacienda en su Gobierno, y Graciela Márquez, su propuesta para la cartera de Economía. “Tener ya a un representante, quien va a encabezar a todo el equipo, Jesús Seade Helú, es para mí un motivo de satisfacción y de tranquilidad”. ¿QUIÉN ES? Estudió Ingeniería Química en la Universidad Nacional Autónoma de México (UNAM), tiene una maestría en Economía en el Colegio de México (Colmex) y un doctorado en Economía por la Universidad de Oxford. Fue director del Centro de Estudios Económicos del Colegio de México (Colmex) y actualmente es profesor emérito de la Universidad de Lingnan en Hong Kong. Se desempeñó como economista principal en el Banco Mundial y fue embajador de México ante la Organización Mundial del Comercio donde llegó a desempeñarse como subdirector General. También fue asesor principal del Fondo Monetario Internacional, en temas de gestión fiscal y transparencia, como también en las deudas de países pobres. Con información de El Financiero.\n"
     ]
    }
   ],
   "source": [
    "print(unida['title'][1210])\n",
    "print(unida['text'][1210])"
   ]
  },
  {
   "cell_type": "code",
   "execution_count": null,
   "metadata": {},
   "outputs": [],
   "source": []
  }
 ],
 "metadata": {
  "kernelspec": {
   "display_name": "py35",
   "language": "python",
   "name": "py35"
  },
  "language_info": {
   "codemirror_mode": {
    "name": "ipython",
    "version": 3
   },
   "file_extension": ".py",
   "mimetype": "text/x-python",
   "name": "python",
   "nbconvert_exporter": "python",
   "pygments_lexer": "ipython3",
   "version": "3.5.6"
  }
 },
 "nbformat": 4,
 "nbformat_minor": 2
}
