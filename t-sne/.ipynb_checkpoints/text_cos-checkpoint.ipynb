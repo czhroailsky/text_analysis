{
 "cells": [
  {
   "cell_type": "code",
   "execution_count": 1,
   "metadata": {},
   "outputs": [],
   "source": [
    "import pandas as pd\n",
    "import numpy as np\n",
    "import math\n",
    "\n",
    "from sklearn.feature_extraction.text import TfidfVectorizer\n",
    "\n",
    "from nltk.corpus import stopwords"
   ]
  },
  {
   "cell_type": "code",
   "execution_count": 2,
   "metadata": {},
   "outputs": [],
   "source": [
    "unida = pd.read_json('C:/Users/enterprise/Google Drive/fake_news_resources/raw_data/nacion_unida.json')\n",
    "verif = pd.read_json('C:/Users/enterprise/Google Drive/fake_news_resources/raw_data/verificado_2018.json')"
   ]
  },
  {
   "cell_type": "code",
   "execution_count": 3,
   "metadata": {},
   "outputs": [],
   "source": [
    "unida['text_list'] = unida['text'].apply(lambda x: str(x).split(' '))\n",
    "unida['filter_text'] = unida['text_list'].apply(lambda x: [word for word in x if word not in stopwords.words('spanish')])"
   ]
  },
  {
   "cell_type": "code",
   "execution_count": 4,
   "metadata": {},
   "outputs": [],
   "source": [
    "verif['text_list'] = verif['text'].apply(lambda x: str(x).split(' '))\n",
    "verif['filter_text'] = verif['text_list'].apply(lambda x: [word for word in x if word not in stopwords.words('spanish')])"
   ]
  },
  {
   "cell_type": "code",
   "execution_count": 5,
   "metadata": {},
   "outputs": [],
   "source": [
    "unida['filter_text_join'] = unida['filter_text'].apply(lambda x: ' '.join(x))\n",
    "verif['filter_text_join'] = verif['filter_text'].apply(lambda x: ' '.join(x))"
   ]
  },
  {
   "cell_type": "code",
   "execution_count": 6,
   "metadata": {},
   "outputs": [],
   "source": [
    "unida_str = unida['filter_text_join'].tolist()\n",
    "verif_str = verif['filter_text_join'].tolist()"
   ]
  },
  {
   "cell_type": "code",
   "execution_count": 7,
   "metadata": {},
   "outputs": [],
   "source": [
    "corpus = unida_str + verif_str"
   ]
  },
  {
   "cell_type": "code",
   "execution_count": 8,
   "metadata": {},
   "outputs": [],
   "source": [
    "vectorizer = TfidfVectorizer()"
   ]
  },
  {
   "cell_type": "code",
   "execution_count": 9,
   "metadata": {},
   "outputs": [],
   "source": [
    "matrix = vectorizer.fit_transform(corpus)"
   ]
  },
  {
   "cell_type": "code",
   "execution_count": 10,
   "metadata": {},
   "outputs": [],
   "source": [
    "names = vectorizer.get_feature_names()"
   ]
  },
  {
   "cell_type": "code",
   "execution_count": 11,
   "metadata": {},
   "outputs": [],
   "source": [
    "mat_uni = vectorizer.transform(unida_str)"
   ]
  },
  {
   "cell_type": "code",
   "execution_count": 12,
   "metadata": {},
   "outputs": [],
   "source": [
    "mat_ver = vectorizer.transform(verif_str)"
   ]
  },
  {
   "cell_type": "code",
   "execution_count": 13,
   "metadata": {},
   "outputs": [],
   "source": [
    "df_mat_uni = pd.DataFrame(mat_uni.todense(), columns=names)"
   ]
  },
  {
   "cell_type": "code",
   "execution_count": 14,
   "metadata": {},
   "outputs": [],
   "source": [
    "df_mat_ver = pd.DataFrame(mat_ver.todense(), columns=names)"
   ]
  },
  {
   "cell_type": "code",
   "execution_count": 15,
   "metadata": {},
   "outputs": [],
   "source": [
    "lst_mat_uni = df_mat_uni.values.tolist()\n",
    "lst_mat_ver = df_mat_ver.values.tolist()"
   ]
  },
  {
   "cell_type": "code",
   "execution_count": 16,
   "metadata": {},
   "outputs": [],
   "source": [
    "def simple_dot(a, b):\n",
    "    dsum = 0\n",
    "    for ((idx,), val) in np.ndenumerate(a):\n",
    "        dsum += float(val) * float(b[idx])\n",
    "    return(dsum)"
   ]
  },
  {
   "cell_type": "code",
   "execution_count": 17,
   "metadata": {},
   "outputs": [],
   "source": [
    "def l2_norm(a):\n",
    "    return(math.sqrt(np.dot(a, a)))"
   ]
  },
  {
   "cell_type": "code",
   "execution_count": 18,
   "metadata": {},
   "outputs": [],
   "source": [
    "def cosine_similarity(a, b):\n",
    "    return(np.dot(a,b) / (l2_norm(a) * l2_norm(b)))"
   ]
  },
  {
   "cell_type": "code",
   "execution_count": 19,
   "metadata": {},
   "outputs": [],
   "source": [
    "maybe = []\n",
    "\n",
    "for i in range(len(lst_mat_uni)):\n",
    "    sim = cosine_similarity(np.array(lst_mat_uni[i]), np.array(lst_mat_ver[0]))\n",
    "    maybe.append(sim)"
   ]
  },
  {
   "cell_type": "code",
   "execution_count": 20,
   "metadata": {},
   "outputs": [
    {
     "name": "stdout",
     "output_type": "stream",
     "text": [
      "0.10413711228219918\n"
     ]
    }
   ],
   "source": [
    "m_maybe = max(maybe)\n",
    "print(m_maybe)"
   ]
  },
  {
   "cell_type": "code",
   "execution_count": 21,
   "metadata": {},
   "outputs": [],
   "source": [
    "index = [i for i, j in enumerate(maybe) if j == m_maybe]"
   ]
  },
  {
   "cell_type": "code",
   "execution_count": 22,
   "metadata": {},
   "outputs": [
    {
     "name": "stdout",
     "output_type": "stream",
     "text": [
      "[78]\n"
     ]
    }
   ],
   "source": [
    "print(index)"
   ]
  },
  {
   "cell_type": "code",
   "execution_count": 24,
   "metadata": {},
   "outputs": [
    {
     "name": "stdout",
     "output_type": "stream",
     "text": [
      "['', 'La', 'nota', '“Funciona', 'boicot:', 'Se', 'derrumban', 'acciones', 'empresas', 'llamaban', 'votar', 'AMLO”', 'suma', '48', 'mil', 'interacciones', 'Facebook', 'sido', 'publicada', '141', 'veces', 'distintas', 'páginas', 'red', 'social.', 'Aunque', 'datos', 'ciertos,', 'información', 'descontextualizada.', 'Verificado', '2018', 'consultó', 'expertos', 'encontró', 'cambios', 'cotización', 'empresas', 'bolsa', 'responden', 'diversos', 'factores,', 'allá', 'elecciones.', 'Acciones', 'picada', 'La', 'nota', '“Funciona', 'boicot:', 'Se', 'derrumban', 'acciones', 'empresas', 'llamaban', 'votar', 'AMLO”,', 'publicada', 'portal', 'Nación', 'Unida,', 'explica', 'consecuencia', 'comunicados', 'empresarios', 'Germán', 'Larrea', 'Mota', '(Grupo', 'México)', 'y,', 'Héctor', 'Hernández', 'Pons', 'Torres', '(Grupo', 'Herdez),', 'modelo', 'político', 'encabeza', 'candidato', 'presidencial', 'Andrés', 'Manuel', 'López', 'Obrador,', 'acciones', 'empresas', 'perdieron', 'valor', 'bolsa.', 'Además', 'anteriores', 'menciona', 'Grupo', 'Lala;', 'embargo,', 'posicionamiento', 'Lala', 'desmentido.', 'Tanto', 'caso', 'Grupo', 'México', 'Herdez,', 'disminución', 'valor', 'acciones', 'después', 'publicación', 'comunicados,', 'ambos', 'casos', 'bajas', 'comienzan', 'fechas', 'previas', 'publicación', 'cartas:', 'día', '16', 'abril', 'Herdez', '21', 'mayo', 'Grupo', 'México.', 'Al', 'ampliar', 'aún', 'panorama,', 'año,', 'puede', 'observar', 'baja', 'mínima.', 'Precio', 'acciones', 'Herdez', 'valor', 'mercado:', '', 'Precio', 'acciones', 'Grupo', 'México', 'valor', 'mercado:', '', 'Además', 'movimientos', 'bolsa', 'previos', 'declaraciones,', 'Ricardo', 'Morales', 'Pelagio,', 'académico', 'investigador', 'Universidad', 'Nacional', 'Autónoma', 'México', '(UNAM)', 'explicó', 'difícil', 'probar', 'caída', 'valor', 'acciones', 'deba', 'justamente', 'declaraciones,', 'pues', 'condiciones', 'internas', 'externas', 'país', 'afectan', 'movimientos', 'bolsa', 'mismas', 'empresas.', 'El', 'académico', 'detalló', 'bolsa', 'mexicana', 'caído', 'último', 'año,', 'distintos', 'factores:', 'imposición', 'aranceles', 'ciertos', 'productos', 'parte', 'gobierno', 'Estados', 'Unidos,', 'lento', 'avance', 'negociaciones', 'Tratado', 'Libre', 'Comercio', 'América', 'Norte', '(TLCAN),', 'otros.', 'Sobre', 'elecciones,', 'Morales', 'Pelagio', 'dijo', 'si', 'bien', 'siempre', 'nerviosismo', 'cambio', 'actores', 'políticos,', 'ahora', 'ningún', 'factor', 'contundente', 'suba', 'baje', 'mercado.', 'Lo', 'anterior', 'afirma', 'reporte', 'exclusivo', 'clientes', 'Citigroup', 'Verificado', '2018', 'acceso.', 'El', 'reporte', 'puntualiza', 'renegociación', 'TLCAN', 'preocupa', 'inversores', 'elecciones:', '“El', 'tema', 'TLCAN', 'podría', 'ser', 'principal', 'motivación', 'detrás', 'precauciones', 'tomadas', 'conformación', 'portafolios', 'inversión”.', 'El', 'reporte', 'detalla', 'si', 'bien', 'tres', 'meses', 'previos', 'elección', 'observado', 'mayor', 'volatilidad', 'elecciones', 'pasadas,', 'ocasión', 'observan', 'posturas', 'defensivas.']\n",
      "['Parece', 'ser', 'todas', 'decisiones', 'políticas', 'AMLO', 'marcadas', 'plan', 'austeridad.', 'En', 'reuniones', 'altos', 'empresarios', 'mexicanos,', 'dado', 'conocer', 'ahorros', 'gobierno', 'federal', 'aplicarán', 'famosos', 'incentivos', 'fiscales.', 'Alfonso', 'Romo,', 'empresario', 'importante', 'equipo', 'López', 'Obrador,', 'promete', 'censurar', 'incentivos', '2019.', 'Estas', 'decisiones', 'corte', 'presidencial', 'vigentes', 'México', 'décadas.', 'La', 'intención', 'seleccionar', 'grupo', 'empresas', 'nacionales', 'permitirles', 'pagar', 'menos', 'impuestos', 'beneficios', 'fiscales,', 'supuestamente', 'generaría', 'mayores', 'ganancias', 'crecimientos.', 'Romo', 'aseguró', 'dentro', 'plan', 'ahorros', 'nuevo', 'gobierno', 'cabida', 'tipo', 'incentivos.', 'El', 'futuro', 'jefe', 'oficina', 'tabasqueño', 'mostrado', 'duro', 'certero', 'encuentros', 'consejo', 'coordinador', 'empresarial.', 'Quienes', 'momento', 'amenazaran', 'votar', 'masivamente', 'Obrador,', 'asegurando', 'empresas', 'nacionales', 'sufrirían', 'políticas,', 'ahora', 'acatan', 'planes', 'Romo', 'inmediato', 'total', 'cooperación.', 'En', 'palabras', 'Pablo', 'Castañón,', 'presidente', 'consejo', 'empresarial,', 'ideal', 'revisar', 'contratos', 'previos', 'detectar', 'alguna', 'anomalía', 'empresas', 'sector', 'involucradas.', 'Públicamente', 'criticó', 'medida', 'cancelación', 'incentivos', 'próximo', 'año,', 'mostró', 'interesado', 'saber', 'si', '2020', 'podrían', 'regresar', 'alguna', 'forma.', 'La', 'intención', 'Romo', 'recurrir', 'constantemente', 'enormes', 'deudas', 'intentar', 'nivelar', 'economía', 'nacional.', 'Esta', 'práctica', 'común', 'sexenio', 'Peña', 'generado', 'niveles', 'inflación', 'adeudo', 'históricos.', 'Obrador', 'recibirá', 'mayor', 'deuda', 'externa', 'registrada', 'historia', 'México.', 'Por', 'tanto,', 'ahorro', 'impuesto', 'práctica', 'ideal', 'sanar', 'cifras', 'rojas', 'gobierno', 'mexicano.', 'Pero', 'solamente', 'austeridad', 'quiere', 'aplicar', 'incentivos.', 'Luisa', 'Alcalde,', 'próxima', 'secretaria', 'trabajo,', 'quiere', 'irse', 'famosos', 'perdones', 'fiscales.', 'Para', 'joven', 'capitalina', 'necesario', 'empresas', 'deben', 'impuestos', 'SAT', 'paguen', 'consienta', 'perdones', 'inexplicables', 'exagerados.', 'Este', 'tipo', 'acciones', 'podrían', 'generarle', 'ingresos', 'multimillonarios', 'gobierno', 'Obrador', 'mismo', 'tiempo', 'enfurecer', 'parte', 'clase', 'empresarial', 'siempre', 'sido', 'privilegiada', 'acuerdos', 'distintos', 'gobiernos', 'previos.', 'Entre', 'descuentos', 'ISR,', 'devolución', 'impuestos', 'ciertas', 'empresas', 'incentivos,', 'parece', 'ser', '2019', 'año', 'cambios', 'integrales', 'sector', 'empresarial.', 'El', 'concepto', 'pretende', 'desarrollar', 'disciplina', 'fiscal.', 'Esto', 'reacción', 'total', 'falta', 'planeación', 'dentro', 'sistema', 'tributario', 'nacional,', 'austeridad', 'constante', 'permanente', '2024.', 'Como', 'muestra', 'buenos', 'términos,', 'Romo', 'Castañón', 'acordaron', 'nuevas', 'reuniones', 'gobierno', 'obradorista', 'sector', 'empresarial', 'menos', 'doce', 'mesas', 'trabajo.']\n"
     ]
    }
   ],
   "source": [
    "print(verif['filter_text'][0])\n",
    "print(unida['filter_text'][78])"
   ]
  },
  {
   "cell_type": "code",
   "execution_count": 25,
   "metadata": {},
   "outputs": [
    {
     "name": "stdout",
     "output_type": "stream",
     "text": [
      "0.10413711228219918\n"
     ]
    }
   ],
   "source": [
    "print(cosine_similarity(np.array(lst_mat_uni[78]), np.array(lst_mat_ver[0])))"
   ]
  },
  {
   "cell_type": "code",
   "execution_count": 27,
   "metadata": {},
   "outputs": [
    {
     "name": "stdout",
     "output_type": "stream",
     "text": [
      " La nota “Funciona el boicot: Se derrumban acciones de empresas que llamaban a no votar por AMLO” suma 48 mil interacciones en Facebook y ha sido publicada 141 veces en distintas páginas de esa red social. Aunque hay datos ciertos, la información está descontextualizada. Verificado 2018 consultó con expertos y encontró que los cambios en la cotización de empresas en la bolsa responden a diversos factores, más allá de las elecciones. Acciones en picada La nota “Funciona el boicot: Se derrumban acciones de empresas que llamaban a no votar por AMLO”, publicada por el portal Nación Unida, explica que a consecuencia de los comunicados de los empresarios Germán Larrea Mota (Grupo México) y, Héctor Hernández Pons Torres (Grupo Herdez), en contra del modelo político que encabeza el candidato presidencial Andrés Manuel López Obrador, las acciones de estas empresas perdieron valor en la bolsa. Además de las anteriores se menciona a Grupo Lala; sin embargo, el posicionamiento de Lala ya fue desmentido. Tanto en el caso de Grupo México como en el de Herdez, sí hay una disminución en el valor de sus acciones después de la publicación de sus comunicados, pero en ambos casos las bajas comienzan fechas previas a la publicación de sus cartas: el día 16 de abril para Herdez y el 21 de mayo para Grupo México. Al ampliar aún más el panorama, a un año, se puede observar que la baja es mínima. Precio de las acciones de Herdez a valor de mercado:  Precio de las acciones de Grupo México a valor del mercado:  Además de que los movimientos en la bolsa fueron previos a sus declaraciones, Ricardo Morales Pelagio, académico e investigador de la Universidad Nacional Autónoma de México (UNAM) explicó que sería muy difícil probar que la caída del valor en las acciones se deba justamente a estas declaraciones, pues hay condiciones internas y externas al país que afectan los movimientos de la bolsa y a las mismas empresas. El académico detalló que la bolsa mexicana ha caído en el último año, por distintos factores: imposición de aranceles a ciertos productos por parte del gobierno de Estados Unidos, y el lento avance en las negociaciones del Tratado de Libre Comercio de América del Norte (TLCAN), entre otros. Sobre las elecciones, Morales Pelagio dijo que si bien siempre hay nerviosismo por el cambio de actores políticos, ahora no es ningún factor contundente para que suba o baje el mercado. Lo anterior también se afirma en un reporte exclusivo para clientes de Citigroup al que Verificado 2018 tuvo acceso. El reporte puntualiza que la renegociación del TLCAN preocupa más a los inversores que las elecciones: “El tema del TLCAN podría ser la principal motivación detrás de las precauciones tomadas en la conformación de los portafolios de inversión”. El reporte detalla que si bien durante los tres meses previos a la elección se ha observado mayor volatilidad en elecciones pasadas, en esta ocasión sí se observan posturas más defensivas.\n",
      "Parece ser que todas las decisiones políticas de la era AMLO estarán marcadas por el plan de austeridad. En reuniones con los altos empresarios mexicanos, se ha dado a conocer que los ahorros del gobierno federal se aplicarán a sus famosos incentivos fiscales. Alfonso Romo, el empresario más importante en el equipo de López Obrador, promete censurar estos incentivos durante todo 2019. Estas decisiones son de corte presidencial y han estado vigentes en México durante décadas. La intención es seleccionar a un grupo de empresas nacionales para permitirles pagar menos impuestos o algunos otros beneficios fiscales, lo que supuestamente les generaría mayores ganancias y crecimientos. Romo aseguró que dentro del plan de ahorros del nuevo gobierno no hay cabida para este tipo de incentivos. El futuro jefe de oficina del tabasqueño se ha mostrado duro y certero en sus encuentros con el consejo coordinador empresarial. Quienes en su momento amenazaran con no votar masivamente por Obrador, asegurando que las empresas nacionales sufrirían por sus políticas, ahora acatan los planes de Romo de inmediato y con total cooperación. En palabras de Pablo Castañón, presidente de este consejo empresarial, lo ideal será revisar contratos previos para detectar alguna anomalía en empresas de su sector que estén involucradas. Públicamente no criticó esta medida de cancelación de incentivos durante el próximo año, pero sí se mostró interesado en saber si para 2020 podrían regresar de alguna forma. La intención de Romo es no recurrir constantemente a enormes deudas para intentar nivelar la economía nacional. Esta práctica común durante el sexenio de Peña ha generado niveles de inflación y adeudo históricos. Obrador recibirá la mayor deuda externa registrada en la historia de México. Por lo tanto, el ahorro se ha impuesto como la práctica ideal para sanar las cifras rojas del gobierno mexicano. Pero no solamente la austeridad quiere aplicar a los incentivos. Luisa Alcalde, la próxima secretaria del trabajo, quiere irse en contra de los famosos perdones fiscales. Para la joven capitalina es necesario que las empresas que más deben impuestos al SAT los paguen y que no se les consienta con perdones inexplicables o exagerados. Este tipo de acciones podrían generarle ingresos multimillonarios al gobierno de Obrador y al mismo tiempo enfurecer a una parte de la clase empresarial que siempre ha sido privilegiada con acuerdos con distintos gobiernos previos. Entre descuentos del ISR, devolución de impuestos a ciertas empresas y otros incentivos, parece ser que el 2019 será un año de cambios integrales en el sector empresarial. El concepto que más se pretende desarrollar es la disciplina fiscal. Esto es una reacción total a la falta de planeación dentro del sistema tributario nacional, por lo que la austeridad será la constante permanente hasta el 2024. Como muestra de buenos términos, Romo y Castañón acordaron nuevas reuniones entre el gobierno obradorista y el sector empresarial en al menos doce mesas de trabajo.\n"
     ]
    }
   ],
   "source": [
    "print(verif['text'][0])\n",
    "print(unida['text'][78])"
   ]
  },
  {
   "cell_type": "code",
   "execution_count": null,
   "metadata": {},
   "outputs": [],
   "source": []
  }
 ],
 "metadata": {
  "kernelspec": {
   "display_name": "py35",
   "language": "python",
   "name": "py35"
  },
  "language_info": {
   "codemirror_mode": {
    "name": "ipython",
    "version": 3
   },
   "file_extension": ".py",
   "mimetype": "text/x-python",
   "name": "python",
   "nbconvert_exporter": "python",
   "pygments_lexer": "ipython3",
   "version": "3.5.6"
  }
 },
 "nbformat": 4,
 "nbformat_minor": 2
}
